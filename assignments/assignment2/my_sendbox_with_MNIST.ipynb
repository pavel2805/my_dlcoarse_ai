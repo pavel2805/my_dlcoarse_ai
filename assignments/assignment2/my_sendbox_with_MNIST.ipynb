{
 "cells": [
  {
   "cell_type": "code",
   "execution_count": 4,
   "metadata": {},
   "outputs": [],
   "source": [
    "#https://neurohive.io/ru/tutorial/glubokoe-obuchenie-s-pytorch/\n",
    "#my sendbox\n",
    "import torch\n",
    "import torch.nn as nn\n",
    "import torch.optim as optim\n",
    "import torch.nn.functional as F\n",
    "from torch.autograd import Variable"
   ]
  },
  {
   "cell_type": "code",
   "execution_count": 5,
   "metadata": {},
   "outputs": [],
   "source": [
    "x = Variable(torch.ones(2, 2) * 2, requires_grad=True)"
   ]
  },
  {
   "cell_type": "code",
   "execution_count": 9,
   "metadata": {},
   "outputs": [
    {
     "name": "stdout",
     "output_type": "stream",
     "text": [
      "tensor([[4., 4.],\n",
      "        [4., 4.]], grad_fn=<AddBackward0>)\n"
     ]
    }
   ],
   "source": [
    "a=torch.FloatTensor([2])\n",
    "y=x+a\n",
    "print(y)"
   ]
  },
  {
   "cell_type": "code",
   "execution_count": 18,
   "metadata": {},
   "outputs": [
    {
     "name": "stdout",
     "output_type": "stream",
     "text": [
      "torch.Size([3, 4, 2])\n",
      "batch_size 3\n",
      "y torch.Size([3, 8])\n",
      "tensor(5.)\n",
      "tensor(5.)\n"
     ]
    }
   ],
   "source": [
    "x=torch.ones(3,4,2)\n",
    "print(x.shape)\n",
    "batch_size,*_ = x.shape\n",
    "print('batch_size',batch_size)\n",
    "y=x.view(batch_size,-1)\n",
    "print('y',y.shape)\n",
    "x[0,0,0]=5\n",
    "print(x[0,0,0])\n",
    "print(y[0,0])"
   ]
  },
  {
   "cell_type": "code",
   "execution_count": null,
   "metadata": {},
   "outputs": [],
   "source": [
    "class Net(nn.Module):\n",
    "   def __init__(self):\n",
    "       super(Net, self).__init__()\n",
    "       self.fc1 = nn.Linear(28 * 28, 200)\n",
    "       self.fc2 = nn.Linear(200, 200)\n",
    "       self.fc3 = nn.Linear(200, 10)\n",
    "   def forward(self, x):\n",
    "       x = F.relu(self.fc1(x))\n",
    "       x = F.relu(self.fc2(x))\n",
    "       x = self.fc3(x)\n",
    "       return F.log_softmax(x)\n",
    "net = Net()\n",
    "print(net)\n",
    "# ???????????????????????? ?????????????????????? ?????????? ?????????????????????????????? ???????????????????????? ????????????\n",
    "learning_rate=0.01\n",
    "optimizer = optim.SGD(net.parameters(), lr=learning_rate, momentum=0.9)\n",
    "# ?????????????? ?????????????? ????????????\n",
    "criterion = nn.NLLLoss()"
   ]
  },
  {
   "cell_type": "code",
   "execution_count": null,
   "metadata": {},
   "outputs": [],
   "source": []
  }
 ],
 "metadata": {
  "kernelspec": {
   "display_name": "Python 3",
   "language": "python",
   "name": "python3"
  },
  "language_info": {
   "codemirror_mode": {
    "name": "ipython",
    "version": 3
   },
   "file_extension": ".py",
   "mimetype": "text/x-python",
   "name": "python",
   "nbconvert_exporter": "python",
   "pygments_lexer": "ipython3",
   "version": "3.6.8"
  }
 },
 "nbformat": 4,
 "nbformat_minor": 4
}
